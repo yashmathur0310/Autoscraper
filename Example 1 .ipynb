{
 "cells": [
  {
   "cell_type": "code",
   "execution_count": 1,
   "metadata": {},
   "outputs": [],
   "source": [
    "from autoscraper import AutoScraper"
   ]
  },
  {
   "cell_type": "code",
   "execution_count": 2,
   "metadata": {},
   "outputs": [],
   "source": [
    "url='https://github.com/krishnaik06?tab=repositories'"
   ]
  },
  {
   "cell_type": "code",
   "execution_count": 3,
   "metadata": {},
   "outputs": [],
   "source": [
    "wanted_list=['Natural-Language-Processing','141']"
   ]
  },
  {
   "cell_type": "code",
   "execution_count": 4,
   "metadata": {},
   "outputs": [],
   "source": [
    "scraper=AutoScraper()"
   ]
  },
  {
   "cell_type": "code",
   "execution_count": 5,
   "metadata": {},
   "outputs": [
    {
     "name": "stdout",
     "output_type": "stream",
     "text": [
      "['Keras-Tuner', 'Malaria-Detection', 'Deep-Learning-Car-Brand', 'Finding-an-Outlier', 'Weather-Chatbot-Using-Luis', 'RegressionandLasso', 'Image-Webscrapper', 'Gender-Recognition-and-Age-Estimator', 'Car-Price-Prediction', 'Credit-Card-Fraudlent', 'Huggingfacetransformer', 'Deployment-flask', 'Feature-Engineering-Live-sessions', 'Advanced-House-Price-Prediction-', 'EDA1', 'Python-Practise-Problems', 'PysparkRegressions', 'Flask-Web-Framework', 'MediaPipe', 'Media-Pipe', 'Data-Analyst-Skill-With-Videos-in-2021', 'Deployment-Deep-Learning-Model', 'Stock-MArket-Forecasting', 'Heroku-Demo', 'Django-Series', 'stats-sessions', 'Image-Segmentation-Using-Pixellib', 'Flask-Heroku', 'Natural-Language-Processing', 'Pywebheroku', '31', '82', '63', '69', '46', '25', '50', '145', '71', '29', '216', '221', '177', '118', '330', '17', '52', '28', '4', '238', '76', '127', '78', '21', '16', '18', '141', '10']\n"
     ]
    }
   ],
   "source": [
    "result=scraper.build(url,wanted_list)\n",
    "print(result)"
   ]
  },
  {
   "cell_type": "code",
   "execution_count": 6,
   "metadata": {},
   "outputs": [
    {
     "data": {
      "text/plain": [
       "{'rule_wtq6': ['Keras-Tuner',\n",
       "  'Malaria-Detection',\n",
       "  'Deep-Learning-Car-Brand',\n",
       "  'Finding-an-Outlier',\n",
       "  'Weather-Chatbot-Using-Luis',\n",
       "  'RegressionandLasso',\n",
       "  'Image-Webscrapper',\n",
       "  'Gender-Recognition-and-Age-Estimator',\n",
       "  'Car-Price-Prediction',\n",
       "  'Credit-Card-Fraudlent',\n",
       "  'Huggingfacetransformer',\n",
       "  'Deployment-flask',\n",
       "  'Feature-Engineering-Live-sessions',\n",
       "  'Advanced-House-Price-Prediction-',\n",
       "  'EDA1',\n",
       "  'Python-Practise-Problems',\n",
       "  'PysparkRegressions',\n",
       "  'Flask-Web-Framework',\n",
       "  'MediaPipe',\n",
       "  'Media-Pipe',\n",
       "  'Data-Analyst-Skill-With-Videos-in-2021',\n",
       "  'Deployment-Deep-Learning-Model',\n",
       "  'Stock-MArket-Forecasting',\n",
       "  'Heroku-Demo',\n",
       "  'Django-Series',\n",
       "  'stats-sessions',\n",
       "  'Image-Segmentation-Using-Pixellib',\n",
       "  'Flask-Heroku',\n",
       "  'Natural-Language-Processing',\n",
       "  'Pywebheroku'],\n",
       " 'rule_co7n': ['31',\n",
       "  '82',\n",
       "  '63',\n",
       "  '69',\n",
       "  '31',\n",
       "  '46',\n",
       "  '25',\n",
       "  '50',\n",
       "  '145',\n",
       "  '71',\n",
       "  '29',\n",
       "  '216',\n",
       "  '221',\n",
       "  '177',\n",
       "  '118',\n",
       "  '330',\n",
       "  '17',\n",
       "  '52',\n",
       "  '28',\n",
       "  '4',\n",
       "  '238',\n",
       "  '76',\n",
       "  '127',\n",
       "  '78',\n",
       "  '17',\n",
       "  '21',\n",
       "  '16',\n",
       "  '18',\n",
       "  '141',\n",
       "  '10']}"
      ]
     },
     "execution_count": 6,
     "metadata": {},
     "output_type": "execute_result"
    }
   ],
   "source": [
    "scraper.get_result_similar('https://github.com/krishnaik06?tab=repositories',grouped=True)"
   ]
  },
  {
   "cell_type": "code",
   "execution_count": 8,
   "metadata": {},
   "outputs": [],
   "source": [
    "scraper.set_rule_aliases({'rule_wtq6':'Title','rule_co7n':'Stars'})\n",
    "scraper.keep_rules(['rule_wtq6','rule_co7n'])\n",
    "scraper.save('github-result-search')"
   ]
  },
  {
   "cell_type": "code",
   "execution_count": 9,
   "metadata": {},
   "outputs": [],
   "source": [
    "scraper.load('github-result-search')"
   ]
  },
  {
   "cell_type": "code",
   "execution_count": 13,
   "metadata": {},
   "outputs": [],
   "source": [
    "result=scraper.get_result_similar('https://github.com/krishnaik06?tab=repositories',group_by_alias=True)"
   ]
  },
  {
   "cell_type": "code",
   "execution_count": 25,
   "metadata": {},
   "outputs": [],
   "source": [
    "import pandas as pd \n",
    "df=pd.DataFrame()\n",
    "df['Title']=result['Title']\n",
    "df['Stars']=result['Stars']"
   ]
  },
  {
   "cell_type": "code",
   "execution_count": 28,
   "metadata": {},
   "outputs": [
    {
     "data": {
      "text/html": [
       "<div>\n",
       "<style scoped>\n",
       "    .dataframe tbody tr th:only-of-type {\n",
       "        vertical-align: middle;\n",
       "    }\n",
       "\n",
       "    .dataframe tbody tr th {\n",
       "        vertical-align: top;\n",
       "    }\n",
       "\n",
       "    .dataframe thead th {\n",
       "        text-align: right;\n",
       "    }\n",
       "</style>\n",
       "<table border=\"1\" class=\"dataframe\">\n",
       "  <thead>\n",
       "    <tr style=\"text-align: right;\">\n",
       "      <th></th>\n",
       "      <th>Title</th>\n",
       "      <th>Stars</th>\n",
       "    </tr>\n",
       "  </thead>\n",
       "  <tbody>\n",
       "    <tr>\n",
       "      <th>0</th>\n",
       "      <td>Keras-Tuner</td>\n",
       "      <td>31</td>\n",
       "    </tr>\n",
       "    <tr>\n",
       "      <th>1</th>\n",
       "      <td>Malaria-Detection</td>\n",
       "      <td>82</td>\n",
       "    </tr>\n",
       "  </tbody>\n",
       "</table>\n",
       "</div>"
      ],
      "text/plain": [
       "               Title Stars\n",
       "0        Keras-Tuner    31\n",
       "1  Malaria-Detection    82"
      ]
     },
     "execution_count": 28,
     "metadata": {},
     "output_type": "execute_result"
    }
   ],
   "source": [
    "df.head(2)"
   ]
  },
  {
   "cell_type": "code",
   "execution_count": 29,
   "metadata": {},
   "outputs": [],
   "source": [
    "df.to_csv('github_dataset.csv',index=False)"
   ]
  },
  {
   "cell_type": "code",
   "execution_count": null,
   "metadata": {},
   "outputs": [],
   "source": []
  }
 ],
 "metadata": {
  "kernelspec": {
   "display_name": "Python 3",
   "language": "python",
   "name": "python3"
  },
  "language_info": {
   "codemirror_mode": {
    "name": "ipython",
    "version": 3
   },
   "file_extension": ".py",
   "mimetype": "text/x-python",
   "name": "python",
   "nbconvert_exporter": "python",
   "pygments_lexer": "ipython3",
   "version": "3.8.5"
  }
 },
 "nbformat": 4,
 "nbformat_minor": 4
}
