{
 "cells": [
  {
   "cell_type": "code",
   "execution_count": 1,
   "metadata": {},
   "outputs": [],
   "source": [
    "from autoscraper import AutoScraper"
   ]
  },
  {
   "cell_type": "code",
   "execution_count": 2,
   "metadata": {},
   "outputs": [],
   "source": [
    "scraper=AutoScraper()"
   ]
  },
  {
   "cell_type": "code",
   "execution_count": 3,
   "metadata": {},
   "outputs": [],
   "source": [
    "url='https://www.amazon.in/s?k=iphone'"
   ]
  },
  {
   "cell_type": "code",
   "execution_count": 4,
   "metadata": {},
   "outputs": [],
   "source": [
    "wanted_list=['Apple iPhone XR (64GB) - White','34,999']"
   ]
  },
  {
   "cell_type": "code",
   "execution_count": 5,
   "metadata": {},
   "outputs": [
    {
     "name": "stdout",
     "output_type": "stream",
     "text": [
      "['Apple iPhone 12 (128GB) - Blue', 'Apple iPhone XR (64GB) - (Product) RED', 'Apple iPhone 12 Mini (128GB) - (Product) RED', 'Apple iPhone XR (128GB) - Black', 'Apple iPhone 11 (64GB) - Green', 'Apple iPhone 12 Mini (64GB) - Purple', 'Apple iPhone 12 (64GB) - Green', 'Apple iPhone 12 (64GB) - Purple', 'Apple iPhone XR (64GB) - White', 'Apple iPhone 13 Mini (256GB) - Starlight', 'Apple iPhone XR (128GB) - Coral', 'Apple iPhone 13 Mini (256GB) - (Product) RED', 'Apple iPhone 12 Mini (128GB) - Green', 'Apple iPhone 13 Mini (256GB) - Pink', 'Apple iPhone XR (128GB) - (Product) RED', 'Apple iPhone XR (64GB) - Coral', '70,900', '34,999', '58,990', '40,999', '49,900', '53,900', '63,900', '79,900', '64,900', '62,900']\n"
     ]
    }
   ],
   "source": [
    "result=scraper.build(url,wanted_list)\n",
    "print(result)"
   ]
  },
  {
   "cell_type": "code",
   "execution_count": 6,
   "metadata": {},
   "outputs": [
    {
     "data": {
      "text/plain": [
       "{'rule_3wrq': ['Apple iPhone XR (64GB) - (Product) RED',\n",
       "  'Apple iPhone 12 Mini (64GB) - Purple',\n",
       "  'Apple iPhone XR (64GB) - White',\n",
       "  'Apple iPhone 11 (256GB) - Green',\n",
       "  'Apple iPhone 13 Mini (128GB) - (Product) RED',\n",
       "  'Apple iPhone 11 Pro (64GB) - Space Grey',\n",
       "  'Apple iPhone 12 (128GB) - Black',\n",
       "  'Apple iPhone 13 Pro Max (512GB) - Graphite',\n",
       "  'Apple iPhone 12 Pro (256GB) - Gold',\n",
       "  'New Apple iPhone 12 Mini (128GB) - Green with Apple 20W USB-C Power Adapter',\n",
       "  'Apple iPhone 12 Pro Max (256GB) - Gold',\n",
       "  '6G Gold Compatible with Apple iPhone with (64GB Internal)',\n",
       "  '5S Gold Compatible with iPhone with 8 MP Camera (16GB Internal Memory)',\n",
       "  'Apple iPhone 11 Pro Max (64GB) - Space Grey',\n",
       "  'New Apple iPhone 12 (128GB) - Black with Apple 20W USB-C Power Adapter',\n",
       "  '6G Silver Compatible with Apple iPhone with 8 Mega Pixel Camera (64GB Internal Memory)'],\n",
       " 'rule_bele': ['Apple iPhone XR (64GB) - (Product) RED',\n",
       "  'Apple iPhone 12 Mini (64GB) - Purple',\n",
       "  'Apple iPhone XR (64GB) - White',\n",
       "  'Apple iPhone 11 (256GB) - Green',\n",
       "  'Apple iPhone 13 Mini (128GB) - (Product) RED',\n",
       "  'Apple iPhone 11 Pro (64GB) - Space Grey',\n",
       "  'Apple iPhone 12 (128GB) - Black',\n",
       "  'Apple iPhone 13 Pro Max (512GB) - Graphite',\n",
       "  'Apple iPhone 12 Pro (256GB) - Gold',\n",
       "  'New Apple iPhone 12 Mini (128GB) - Green with Apple 20W USB-C Power Adapter',\n",
       "  'Apple iPhone 12 Pro Max (256GB) - Gold',\n",
       "  '6G Gold Compatible with Apple iPhone with (64GB Internal)',\n",
       "  '5S Gold Compatible with iPhone with 8 MP Camera (16GB Internal Memory)',\n",
       "  'Apple iPhone 11 Pro Max (64GB) - Space Grey',\n",
       "  'New Apple iPhone 12 (128GB) - Black with Apple 20W USB-C Power Adapter',\n",
       "  '6G Silver Compatible with Apple iPhone with 8 Mega Pixel Camera (64GB Internal Memory)'],\n",
       " 'rule_mvwa': ['34,999',\n",
       "  '53,900',\n",
       "  '34,999',\n",
       "  '62,900',\n",
       "  '69,900',\n",
       "  '79,899',\n",
       "  '64,999',\n",
       "  '1,59,900',\n",
       "  '1,04,900',\n",
       "  '66,699',\n",
       "  '1,29,900',\n",
       "  '21,599',\n",
       "  '14,499',\n",
       "  '87,900',\n",
       "  '66,798',\n",
       "  '20,999'],\n",
       " 'rule_yg15': ['34,999',\n",
       "  '53,900',\n",
       "  '34,999',\n",
       "  '62,900',\n",
       "  '69,900',\n",
       "  '79,899',\n",
       "  '64,999',\n",
       "  '1,59,900',\n",
       "  '1,04,900',\n",
       "  '66,699',\n",
       "  '1,29,900',\n",
       "  '21,599',\n",
       "  '14,499',\n",
       "  '87,900',\n",
       "  '66,798',\n",
       "  '20,999'],\n",
       " 'rule_d3et': ['34,999',\n",
       "  '53,900',\n",
       "  '34,999',\n",
       "  '62,900',\n",
       "  '69,900',\n",
       "  '79,899',\n",
       "  '64,999',\n",
       "  '1,59,900',\n",
       "  '1,04,900',\n",
       "  '66,699',\n",
       "  '1,29,900',\n",
       "  '21,599',\n",
       "  '14,499',\n",
       "  '87,900',\n",
       "  '66,798',\n",
       "  '20,999'],\n",
       " 'rule_1xxc': ['62,900', '34,999']}"
      ]
     },
     "execution_count": 6,
     "metadata": {},
     "output_type": "execute_result"
    }
   ],
   "source": [
    "scraper.get_result_similar('https://www.amazon.in/s?k=iphone',grouped=True)"
   ]
  },
  {
   "cell_type": "code",
   "execution_count": 9,
   "metadata": {},
   "outputs": [],
   "source": [
    "scraper.set_rule_aliases({'rule_3wrq':'Model','rule_mvwa':'Price'})\n",
    "scraper.keep_rules(['rule_3wrq','rule_mvwa'])\n",
    "scraper.save('Amazon-Phone-Price')"
   ]
  },
  {
   "cell_type": "code",
   "execution_count": 11,
   "metadata": {},
   "outputs": [],
   "source": [
    "scraper.load('Amazon-Phone-Price')"
   ]
  },
  {
   "cell_type": "code",
   "execution_count": 13,
   "metadata": {},
   "outputs": [],
   "source": [
    "result=scraper.get_result_similar('https://www.amazon.in/s?k=iphone',group_by_alias=True)"
   ]
  },
  {
   "cell_type": "code",
   "execution_count": 14,
   "metadata": {},
   "outputs": [
    {
     "data": {
      "text/plain": [
       "16"
      ]
     },
     "execution_count": 14,
     "metadata": {},
     "output_type": "execute_result"
    }
   ],
   "source": [
    "len(result['Model'])"
   ]
  },
  {
   "cell_type": "code",
   "execution_count": 15,
   "metadata": {},
   "outputs": [
    {
     "data": {
      "text/plain": [
       "16"
      ]
     },
     "execution_count": 15,
     "metadata": {},
     "output_type": "execute_result"
    }
   ],
   "source": [
    "len(result['Price'])"
   ]
  },
  {
   "cell_type": "code",
   "execution_count": 16,
   "metadata": {},
   "outputs": [],
   "source": [
    "import pandas as pd "
   ]
  },
  {
   "cell_type": "code",
   "execution_count": 17,
   "metadata": {},
   "outputs": [],
   "source": [
    "df=pd.DataFrame()"
   ]
  },
  {
   "cell_type": "code",
   "execution_count": 18,
   "metadata": {},
   "outputs": [],
   "source": [
    "df['Model']=result['Model']\n",
    "df['Price']=result['Price']"
   ]
  },
  {
   "cell_type": "code",
   "execution_count": 20,
   "metadata": {},
   "outputs": [
    {
     "data": {
      "text/html": [
       "<div>\n",
       "<style scoped>\n",
       "    .dataframe tbody tr th:only-of-type {\n",
       "        vertical-align: middle;\n",
       "    }\n",
       "\n",
       "    .dataframe tbody tr th {\n",
       "        vertical-align: top;\n",
       "    }\n",
       "\n",
       "    .dataframe thead th {\n",
       "        text-align: right;\n",
       "    }\n",
       "</style>\n",
       "<table border=\"1\" class=\"dataframe\">\n",
       "  <thead>\n",
       "    <tr style=\"text-align: right;\">\n",
       "      <th></th>\n",
       "      <th>Model</th>\n",
       "      <th>Price</th>\n",
       "    </tr>\n",
       "  </thead>\n",
       "  <tbody>\n",
       "    <tr>\n",
       "      <th>0</th>\n",
       "      <td>Apple iPhone 12 (128GB) - Blue</td>\n",
       "      <td>70,900</td>\n",
       "    </tr>\n",
       "    <tr>\n",
       "      <th>1</th>\n",
       "      <td>Apple iPhone XR (64GB) - (Product) RED</td>\n",
       "      <td>34,999</td>\n",
       "    </tr>\n",
       "  </tbody>\n",
       "</table>\n",
       "</div>"
      ],
      "text/plain": [
       "                                    Model   Price\n",
       "0          Apple iPhone 12 (128GB) - Blue  70,900\n",
       "1  Apple iPhone XR (64GB) - (Product) RED  34,999"
      ]
     },
     "execution_count": 20,
     "metadata": {},
     "output_type": "execute_result"
    }
   ],
   "source": [
    "df.head(2)"
   ]
  },
  {
   "cell_type": "code",
   "execution_count": 21,
   "metadata": {},
   "outputs": [],
   "source": [
    "df.to_csv('Iphone.csv',index=False)"
   ]
  },
  {
   "cell_type": "code",
   "execution_count": null,
   "metadata": {},
   "outputs": [],
   "source": []
  }
 ],
 "metadata": {
  "kernelspec": {
   "display_name": "Python 3",
   "language": "python",
   "name": "python3"
  },
  "language_info": {
   "codemirror_mode": {
    "name": "ipython",
    "version": 3
   },
   "file_extension": ".py",
   "mimetype": "text/x-python",
   "name": "python",
   "nbconvert_exporter": "python",
   "pygments_lexer": "ipython3",
   "version": "3.8.5"
  }
 },
 "nbformat": 4,
 "nbformat_minor": 4
}
