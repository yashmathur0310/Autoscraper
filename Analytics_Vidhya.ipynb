{
 "cells": [
  {
   "cell_type": "code",
   "execution_count": 1,
   "metadata": {},
   "outputs": [],
   "source": [
    "from autoscraper import AutoScraper"
   ]
  },
  {
   "cell_type": "code",
   "execution_count": 2,
   "metadata": {},
   "outputs": [],
   "source": [
    "scraper=AutoScraper()"
   ]
  },
  {
   "cell_type": "code",
   "execution_count": 3,
   "metadata": {},
   "outputs": [],
   "source": [
    "url='https://www.analyticsvidhya.com/blog/category/machine-learning/?utm_source=blog_navbar&utm_medium=machine_learning_button'\n",
    "wanted_list=['Machine Learning Algorithms','https://www.analyticsvidhya.com/blog/2022/01/machine-learning-algorithms/']"
   ]
  },
  {
   "cell_type": "code",
   "execution_count": 4,
   "metadata": {},
   "outputs": [
    {
     "name": "stdout",
     "output_type": "stream",
     "text": [
      "['Machine Learning Algorithms', '10 Best Data Science Websites to Find Datasets for your Next DS Project', 'Multiple Time Series Model Using Apache Spark and Facebook Prophet', 'Writing Test Cases for Machine Learning systems', 'From Word Embedding to Documents Embedding without any Training', 'All You Need to Know about Recommendation Systems', 'Diabetes Prediction Using Machine Learning', 'Classification of Tweets using SpaCy', 'Google Cloud Platform with ML Pipeline: A Step-to-Step Guide', 'Complete Guide to Anomaly Detection with AutoEncoders using Tensorflow', 'https://www.analyticsvidhya.com/blog/2022/01/machine-learning-algorithms/', 'https://www.analyticsvidhya.com/blog/2022/01/10-best-data-science-websites-to-find-datasets-for-your-next-ds-project/', 'https://www.analyticsvidhya.com/blog/2022/01/apache-spark-and-facebook-prophet/', 'https://www.analyticsvidhya.com/blog/2022/01/writing-test-cases-for-machine-learning/', 'https://www.analyticsvidhya.com/blog/2022/01/from-word-embedding-to-documents-embedding-without-any-training/', 'https://www.analyticsvidhya.com/blog/2022/01/all-you-need-to-know-about-recommendation-systems/', 'https://www.analyticsvidhya.com/blog/2022/01/diabetes-prediction-using-machine-learning/', 'https://www.analyticsvidhya.com/blog/2022/01/classification-of-tweets-using-spacy/', 'https://www.analyticsvidhya.com/blog/2022/01/google-cloud-platform/', 'https://www.analyticsvidhya.com/blog/2022/01/complete-guide-to-anomaly-detection-with-autoencoders-using-tensorflow/']\n"
     ]
    }
   ],
   "source": [
    "result=scraper.build(url,wanted_list)\n",
    "print(result)"
   ]
  },
  {
   "cell_type": "code",
   "execution_count": 5,
   "metadata": {},
   "outputs": [
    {
     "data": {
      "text/plain": [
       "{'rule_swlq': ['Machine Learning Algorithms',\n",
       "  '10 Best Data Science Websites to Find Datasets for your Next DS Project',\n",
       "  'Multiple Time Series Model Using Apache Spark and Facebook Prophet',\n",
       "  'Writing Test Cases for Machine Learning systems',\n",
       "  'From Word Embedding to Documents Embedding without any Training',\n",
       "  'All You Need to Know about Recommendation Systems',\n",
       "  'Diabetes Prediction Using Machine Learning',\n",
       "  'Classification of Tweets using SpaCy',\n",
       "  'Google Cloud Platform with ML Pipeline: A Step-to-Step Guide',\n",
       "  'Complete Guide to Anomaly Detection with AutoEncoders using Tensorflow'],\n",
       " 'rule_8a2m': ['https://www.analyticsvidhya.com/blog/2022/01/machine-learning-algorithms/',\n",
       "  'https://www.analyticsvidhya.com/blog/2022/01/10-best-data-science-websites-to-find-datasets-for-your-next-ds-project/',\n",
       "  'https://www.analyticsvidhya.com/blog/2022/01/apache-spark-and-facebook-prophet/',\n",
       "  'https://www.analyticsvidhya.com/blog/2022/01/writing-test-cases-for-machine-learning/',\n",
       "  'https://www.analyticsvidhya.com/blog/2022/01/from-word-embedding-to-documents-embedding-without-any-training/',\n",
       "  'https://www.analyticsvidhya.com/blog/2022/01/all-you-need-to-know-about-recommendation-systems/',\n",
       "  'https://www.analyticsvidhya.com/blog/2022/01/diabetes-prediction-using-machine-learning/',\n",
       "  'https://www.analyticsvidhya.com/blog/2022/01/classification-of-tweets-using-spacy/',\n",
       "  'https://www.analyticsvidhya.com/blog/2022/01/google-cloud-platform/',\n",
       "  'https://www.analyticsvidhya.com/blog/2022/01/complete-guide-to-anomaly-detection-with-autoencoders-using-tensorflow/']}"
      ]
     },
     "execution_count": 5,
     "metadata": {},
     "output_type": "execute_result"
    }
   ],
   "source": [
    "scraper.get_result_similar(url,grouped=True)"
   ]
  },
  {
   "cell_type": "code",
   "execution_count": 7,
   "metadata": {},
   "outputs": [],
   "source": [
    "scraper.set_rule_aliases({'rule_swlq':'Title','rule_8a2m':'Blog Link'})\n",
    "scraper.keep_rules(['rule_swlq','rule_8a2m'])\n",
    "scraper.save('Av')"
   ]
  },
  {
   "cell_type": "code",
   "execution_count": 8,
   "metadata": {},
   "outputs": [],
   "source": [
    "scraper.load('Av')"
   ]
  },
  {
   "cell_type": "code",
   "execution_count": 9,
   "metadata": {},
   "outputs": [],
   "source": [
    "result=scraper.get_result_similar(url,group_by_alias=True)"
   ]
  },
  {
   "cell_type": "code",
   "execution_count": 10,
   "metadata": {},
   "outputs": [],
   "source": [
    "import pandas as pd "
   ]
  },
  {
   "cell_type": "code",
   "execution_count": 11,
   "metadata": {},
   "outputs": [],
   "source": [
    "df=pd.DataFrame()"
   ]
  },
  {
   "cell_type": "code",
   "execution_count": 12,
   "metadata": {},
   "outputs": [],
   "source": [
    "df['Title']=result['Title']\n",
    "df['Blog Link']=result['Blog Link']"
   ]
  },
  {
   "cell_type": "code",
   "execution_count": 13,
   "metadata": {},
   "outputs": [],
   "source": [
    "df.to_csv('Analytics_Vidhya.csv',index=False)"
   ]
  },
  {
   "cell_type": "code",
   "execution_count": null,
   "metadata": {},
   "outputs": [],
   "source": []
  }
 ],
 "metadata": {
  "kernelspec": {
   "display_name": "Python 3",
   "language": "python",
   "name": "python3"
  },
  "language_info": {
   "codemirror_mode": {
    "name": "ipython",
    "version": 3
   },
   "file_extension": ".py",
   "mimetype": "text/x-python",
   "name": "python",
   "nbconvert_exporter": "python",
   "pygments_lexer": "ipython3",
   "version": "3.8.5"
  }
 },
 "nbformat": 4,
 "nbformat_minor": 4
}
